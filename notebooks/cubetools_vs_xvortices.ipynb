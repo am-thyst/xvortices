{
 "cells": [
  {
   "cell_type": "markdown",
   "id": "e7263583-2d20-4b29-a9c9-652c5ed082df",
   "metadata": {},
   "source": [
    "# **Methods of calculating cylindrical coordinates**"
   ]
  },
  {
   "cell_type": "markdown",
   "id": "66aa188c-b982-43f4-865f-4b3e79c64d37",
   "metadata": {
    "jp-MarkdownHeadingCollapsed": true,
    "tags": []
   },
   "source": [
    "The aim of this notebook is to demonstrate that the much more efficient package \"xvortices\" is just as effective at calculating the cylindrical coordinates around a tropical cyclone as the 'cylindrical_Mlev' which was developed by **John Ashcroft** and partially by **Amethyst Johnson** at the University of Leeds"
   ]
  },
  {
   "cell_type": "markdown",
   "id": "12eb1457-cee6-4d8c-80e4-4663afd0f391",
   "metadata": {},
   "source": [
    "### Import packages"
   ]
  },
  {
   "cell_type": "code",
   "execution_count": 43,
   "id": "e34fc734-2d72-4ec4-ba7b-b9b407d336ed",
   "metadata": {},
   "outputs": [],
   "source": [
    "from xvortices.xvortices import load_cylind, project_to_cylind\n",
    "import xarray as xr\n",
    "import numpy as np\n",
    "import iris\n",
    "import time\n",
    "from iris.coords import DimCoord\n",
    "from iris.cube import Cube\n",
    "import matplotlib.pyplot as plt\n",
    "from mpl_toolkits.axes_grid1 import make_axes_locatable\n",
    "\n",
    "import warnings\n",
    "warnings.filterwarnings(\"ignore\", category=FutureWarning); warnings.filterwarnings(\"ignore\", category=UserWarning) "
   ]
  },
  {
   "cell_type": "markdown",
   "id": "45b90cb8-001a-495b-a584-a048a8d53ced",
   "metadata": {},
   "source": [
    "### Define a small function for a nice subplot colorbar (optional)"
   ]
  },
  {
   "cell_type": "code",
   "execution_count": 36,
   "id": "0d021641-a26e-429c-9d1b-d57146a87fce",
   "metadata": {},
   "outputs": [],
   "source": [
    "# just adds a nice colorbar \n",
    "def add_colorbar(axes,im1,ticks):\n",
    "    divider = make_axes_locatable(axes)\n",
    "    cax = divider.append_axes('right', size='5%', pad=0.05)\n",
    "    cbar = fig.colorbar(im1, cax=cax, orientation='vertical',ticks=ticks)\n",
    "    cbar.ax.set_yticklabels(ticks)"
   ]
  },
  {
   "cell_type": "markdown",
   "id": "65391cd2-d2fc-4159-8efa-660b192e932c",
   "metadata": {},
   "source": [
    "### Previously used functions for cylindrical coordinates"
   ]
  },
  {
   "cell_type": "code",
   "execution_count": 37,
   "id": "1a790141-f6c5-4a6a-af33-0b734838bcb3",
   "metadata": {},
   "outputs": [],
   "source": [
    "def cylindrical_Mlev(cube,cenlat,cenlon,max_r=300,dr=10):\n",
    "    cyl_cube = []\n",
    "    for cube_p in cube.slices(['latitude','longitude']):\n",
    "        cube_slc_p = cylindrical_mlev(cube_p,cenlat,cenlon,max_r=max_r,dr=dr)\n",
    "        cyl_cube.append(cube_slc_p)\n",
    "    cube_cy = iris.cube.CubeList(cyl_cube).merge()[0]\n",
    "    return cube_cy\n",
    "\n",
    "def cylindrical_mlev(cube,cenlat,cenlon,max_r=300,dr=2):\n",
    "    '''\n",
    "    Converts an iris cube from a lat/lon grid to cylindrical coordinates.\n",
    "    max_r and dr can be defined in the function.\n",
    "    Should only be used on data in the tropics where the globe can be cansidered\n",
    "    cartesian and hence the km_to_deg factor of 0.009... can be used.\n",
    "    Written by John Ashcroft, University of Leeds\n",
    "    '''\n",
    "    dtheta = np.pi / 8. ## <<-- change this to make more accurate or make quicker\n",
    "    radii = np.arange(0,max_r,dr)\n",
    "    theta = np.arange(0,2*np.pi+0.0001,dtheta)\n",
    "    km_to_deg = 0.009 # Fairly accurate for the tropics, calculated using a lat of 15 deg.\n",
    "    mlev = cube.coord('model_level_number').points[0]\n",
    "    radii_coord = iris.coords.AuxCoord(radii,long_name='r',units='km')\n",
    "    theta_coord = iris.coords.AuxCoord(theta,long_name='phi')\n",
    "    m_coord = iris.coords.AuxCoord(mlev,long_name='model_level_number')\n",
    "    for r in radii:\n",
    "      cube_rad = []\n",
    "      for phi in theta:\n",
    "          xpoi = cenlon + r * km_to_deg * np.cos(phi)\n",
    "          ypoi = cenlat + r * km_to_deg * np.sin(phi) # coordinates of interest\n",
    "          new_point = [('latitude',ypoi),('longitude',xpoi)] # Define a new location\n",
    "          data = cube.interpolate(new_point,iris.analysis.Linear()).data #Linearly interpolate data form the cube to this point\n",
    "          cube_rad.append(data) # Define array of data for each phi\n",
    "      if r == 0:\n",
    "          cyl_data = cube_rad\n",
    "      else:\n",
    "          cyl_data = np.vstack((cyl_data,cube_rad))\n",
    "    cyl_cube = iris.cube.Cube(cyl_data,\n",
    "          long_name='{0} in cylindrical coordinates'.format(cube.name()),\n",
    "          aux_coords_and_dims=[(radii_coord,0),(theta_coord,1)],\n",
    "          attributes={\"cenlat\":cenlat,\"cenlon\":cenlon})\n",
    "    cyl_cube.add_aux_coord(m_coord)\n",
    "    return cyl_cube"
   ]
  },
  {
   "cell_type": "markdown",
   "id": "8a6dd9e1-41ba-4287-948d-3aa609af151b",
   "metadata": {},
   "source": [
    "### Load in the data"
   ]
  },
  {
   "cell_type": "code",
   "execution_count": 38,
   "id": "5c07bda5-a98a-4150-b368-a98e0684608e",
   "metadata": {},
   "outputs": [],
   "source": [
    "file=\"/nfs/a161/eeajo/original/em0/umnsaa_pd000.pp\"\n",
    "w = iris.load_cube(file,'upward_air_velocity')[0] # loads in just one time\n",
    "z = iris.load_cube(file,'height_above_reference_ellipsoid')"
   ]
  },
  {
   "cell_type": "markdown",
   "id": "5ff88208-2289-4c47-911a-35d43b34efef",
   "metadata": {},
   "source": [
    "### Define central longitude and latitude"
   ]
  },
  {
   "cell_type": "code",
   "execution_count": 41,
   "id": "b199be6a-f584-468b-b076-f5ca17b2be2d",
   "metadata": {},
   "outputs": [],
   "source": [
    "lat0 = 20.754039797516192; lon0 = 290.10739890026036"
   ]
  },
  {
   "cell_type": "markdown",
   "id": "8400d202-328c-4e06-a539-4412671bc1f4",
   "metadata": {},
   "source": [
    "### Calculate cylindrical coordinates using original method"
   ]
  },
  {
   "cell_type": "code",
   "execution_count": 44,
   "id": "4848b649-4bd2-4d61-bbb0-6958b5db8ae8",
   "metadata": {},
   "outputs": [
    {
     "name": "stdout",
     "output_type": "stream",
     "text": [
      "563.758245666977\n"
     ]
    }
   ],
   "source": [
    "# Calculates cylindrical coordinates for vertical velocity and altitude, then means over the azimuth\n",
    "init_time = time.perf_counter()\n",
    "w_cb = cylindrical_Mlev(w,lat0,lon0,max_r=300,dr=5).collapsed('phi',iris.analysis.MEAN)\n",
    "z_cb = cylindrical_Mlev(z,lat0,lon0,max_r=300,dr=5).collapsed('phi',iris.analysis.MEAN)\n",
    "end_time = time.perf_counter()\n",
    "\n",
    "print(end_time-init_time)"
   ]
  },
  {
   "cell_type": "markdown",
   "id": "8690df33-4507-4ea4-a53d-3717733787bb",
   "metadata": {},
   "source": [
    "### Calculate cylindrical coordinates using xvortices"
   ]
  },
  {
   "cell_type": "code",
   "execution_count": 45,
   "id": "9c6fd8d2-e6e3-46d5-80e5-0d1687fc307e",
   "metadata": {},
   "outputs": [
    {
     "name": "stdout",
     "output_type": "stream",
     "text": [
      "0.08175429189577699\n"
     ]
    }
   ],
   "source": [
    "# number of azimuthal gridpoints, number of radius gridpoints, maximum radius\n",
    "# this is computed in degrees so I divide by 111 to convert to km\n",
    "azimNum, radiNum, radMax = 72, 60, 300/111\n",
    "\n",
    "init_time = time.perf_counter()\n",
    "[z_xv,w_xv], lons, lats, etas = load_cylind([xr.DataArray.from_iris(z),xr.DataArray.from_iris(w)],\n",
    "                                      azimNum=azimNum,radiNum=radiNum,radMax=radMax,\n",
    "                                      olon=lon0, olat=lat0,lonname=\"longitude\",latname=\"latitude\")\n",
    "end_time = time.perf_counter()\n",
    "\n",
    "print(end_time-init_time)"
   ]
  },
  {
   "cell_type": "markdown",
   "id": "d11c6a83-2be8-474c-93a5-70e283c77f51",
   "metadata": {},
   "source": [
    "### xarray to iris doesn't properly configure the coordinates - remove and reset"
   ]
  },
  {
   "cell_type": "code",
   "execution_count": 46,
   "id": "9971748e-33a7-4273-8dcb-234a95d32cb8",
   "metadata": {},
   "outputs": [],
   "source": [
    "phi = DimCoord(np.linspace(0, 355, 72),long_name='phi',units='degrees')\n",
    "r = DimCoord(np.linspace(0, 300/111, 60)*111,long_name='r',units='km')\n",
    "model_level_number = w.coord('model_level_number')\n",
    "\n",
    "def reset_coords(xarray_input,times=False):\n",
    "    w_is = xarray_input.to_iris()\n",
    "    w_is.remove_coord('model_level_number'); w_is.remove_coord('azim'); w_is.remove_coord('radi')\n",
    "    w_cube = Cube(np.array(w_is.data,dtype=float),\n",
    "                  long_name=\"w in cylindrical coordinates\",\n",
    "                  dim_coords_and_dims=[(model_level_number,0),(r,1),(phi,2)])\n",
    "    return(w_cube)\n",
    "\n",
    "# also means across the azimuth\n",
    "w_cyl = reset_coords(w_xv).collapsed('phi',iris.analysis.MEAN)\n",
    "z_cyl = reset_coords(z_xv).collapsed('phi',iris.analysis.MEAN)"
   ]
  },
  {
   "cell_type": "markdown",
   "id": "d7f7d341-dcfa-48c6-899f-f18105d498f5",
   "metadata": {},
   "source": [
    "### Plot to demonstrate similarity between the methods"
   ]
  },
  {
   "cell_type": "code",
   "execution_count": 48,
   "id": "369e6430-5ed4-4553-8b81-4d22f0756edf",
   "metadata": {},
   "outputs": [
    {
     "data": {
      "image/png": "[encoded data removed]",
      "text/plain": [
       "<Figure size 720x360 with 3 Axes>"
      ]
     },
     "metadata": {
      "needs_background": "light"
     },
     "output_type": "display_data"
    }
   ],
   "source": [
    "fig, ((ax1),(ax2)) = plt.subplots(1,2,figsize=(10,5))\n",
    "X,Y=np.meshgrid(r.points,model_level_number.points)\n",
    "shad = ax1.contourf(X,z_cyl.data,w_cyl.data,levels=np.arange(-0.4,0.45,0.05),cmap=\"bwr\",extend=\"both\")\n",
    "ax1.set_title(\"xvortices\"); ax1.set_ylim(0,3000); ax1.set_xlim(0,300)\n",
    "\n",
    "X,Y=np.meshgrid(w_cb.coord('r').points,w_cb.coord('model_level_number').points)\n",
    "shad = ax2.contourf(X,z_cb.data,w_cb.data,levels=np.arange(-0.4,0.45,0.05),cmap=\"bwr\",extend=\"both\")\n",
    "ax2.set_title(\"cubetools\"); ax2.set_ylim(0,3000); ax2.set_xlim(0,300)\n",
    "plt.suptitle(\"Azimuthally averaged vertical velocity\")\n",
    "add_colorbar(ax2,shad,ticks=np.round(np.arange(-0.4,0.6,0.2),2))\n",
    "plt.show()"
   ]
  },
  {
   "cell_type": "code",
   "execution_count": null,
   "id": "59b9d6da-7984-490c-8d41-2715f6150d87",
   "metadata": {},
   "outputs": [],
   "source": []
  }
 ],
 "metadata": {
  "kernelspec": {
   "display_name": "Python 3 (ipykernel)",
   "language": "python",
   "name": "python3"
  },
  "language_info": {
   "codemirror_mode": {
    "name": "ipython",
    "version": 3
   },
   "file_extension": ".py",
   "mimetype": "text/x-python",
   "name": "python",
   "nbconvert_exporter": "python",
   "pygments_lexer": "ipython3",
   "version": "3.8.13"
  }
 },
 "nbformat": 4,
 "nbformat_minor": 5
}
